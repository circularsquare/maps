{
 "cells": [
  {
   "cell_type": "code",
   "execution_count": null,
   "id": "8a930137-b856-4bc0-988c-2a3eb0736b18",
   "metadata": {},
   "outputs": [],
   "source": []
  }
 ],
 "metadata": {
  "kernelspec": {
   "display_name": "",
   "name": ""
  },
  "language_info": {
   "name": ""
  }
 },
 "nbformat": 4,
 "nbformat_minor": 5
}
